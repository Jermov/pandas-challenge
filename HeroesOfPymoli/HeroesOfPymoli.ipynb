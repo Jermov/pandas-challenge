{
 "cells": [
  {
   "cell_type": "markdown",
   "metadata": {},
   "source": [
    "### Note\n",
    "* Instructions have been included for each segment. You do not have to follow them exactly, but they are included to help you think through the steps."
   ]
  },
  {
   "cell_type": "code",
   "execution_count": 1,
   "metadata": {},
   "outputs": [],
   "source": [
    "# Dependencies and Setup\n",
    "import pandas as pd\n",
    "\n",
    "# File to Load (Remember to Change These)\n",
    "data = \".//Resources/purchase_data.csv\"\n",
    "\n",
    "# Read Purchasing File and store into Pandas data frame\n",
    "df = pd.read_csv(data)\n",
    "#print(df)"
   ]
  },
  {
   "cell_type": "markdown",
   "metadata": {},
   "source": [
    "## Player Count"
   ]
  },
  {
   "cell_type": "markdown",
   "metadata": {},
   "source": [
    "* Display the total number of players\n"
   ]
  },
  {
   "cell_type": "code",
   "execution_count": 2,
   "metadata": {},
   "outputs": [
    {
     "name": "stdout",
     "output_type": "stream",
     "text": [
      "   Total Players\n",
      "0            576\n"
     ]
    }
   ],
   "source": [
    "##prep data- hold them in variables\n",
    "#hold unique names in a dataframe\n",
    "players = df['SN'].unique()\n",
    "\n",
    "#counts each unique school to return total school\n",
    "player_count = len(players)\n",
    "#print(player_count)\n",
    "summary = pd.DataFrame({\n",
    "    \n",
    "    \"Total Players\": [player_count]\n",
    "\n",
    "})\n",
    "print(summary)"
   ]
  },
  {
   "cell_type": "markdown",
   "metadata": {},
   "source": [
    "## Purchasing Analysis (Total)"
   ]
  },
  {
   "cell_type": "markdown",
   "metadata": {},
   "source": [
    "* Run basic calculations to obtain number of unique items, average price, etc.\n",
    "\n",
    "\n",
    "* Create a summary data frame to hold the results\n",
    "\n",
    "\n",
    "* Optional: give the displayed data cleaner formatting\n",
    "\n",
    "\n",
    "* Display the summary data frame\n"
   ]
  },
  {
   "cell_type": "code",
   "execution_count": 3,
   "metadata": {
    "scrolled": true
   },
   "outputs": [
    {
     "data": {
      "text/html": [
       "<div>\n",
       "<style scoped>\n",
       "    .dataframe tbody tr th:only-of-type {\n",
       "        vertical-align: middle;\n",
       "    }\n",
       "\n",
       "    .dataframe tbody tr th {\n",
       "        vertical-align: top;\n",
       "    }\n",
       "\n",
       "    .dataframe thead th {\n",
       "        text-align: right;\n",
       "    }\n",
       "</style>\n",
       "<table border=\"1\" class=\"dataframe\">\n",
       "  <thead>\n",
       "    <tr style=\"text-align: right;\">\n",
       "      <th></th>\n",
       "      <th>Number of Unique Items</th>\n",
       "      <th>Average Price</th>\n",
       "      <th>Number of Purchases</th>\n",
       "      <th>Total Revenue</th>\n",
       "    </tr>\n",
       "  </thead>\n",
       "  <tbody>\n",
       "    <tr>\n",
       "      <th>0</th>\n",
       "      <td>179</td>\n",
       "      <td>$3.05</td>\n",
       "      <td>780</td>\n",
       "      <td>$2,379.77</td>\n",
       "    </tr>\n",
       "  </tbody>\n",
       "</table>\n",
       "</div>"
      ],
      "text/plain": [
       "   Number of Unique Items  Average Price  Number of Purchases  Total Revenue\n",
       "0                     179          $3.05                  780      $2,379.77"
      ]
     },
     "execution_count": 3,
     "metadata": {},
     "output_type": "execute_result"
    }
   ],
   "source": [
    "# create variables for unique items, avg price, number of purchases, and total revenue\n",
    "items = df[\"Item ID\"].nunique()\n",
    "avg_price = df[\"Price\"].mean()\n",
    "n_purch = df[\"Purchase ID\"].nunique()\n",
    "revenue = df.Price.sum()\n",
    "\n",
    "# Create df from the above variables\n",
    "purchase_sum = pd.DataFrame({\"Number of Unique Items\": [items],\n",
    "                              \"Average Price\": [avg_price],\n",
    "                              \"Number of Purchases\": [n_purch],\n",
    "                              \"Total Revenue\": [revenue]})\n",
    "\n",
    "# Format\n",
    "pd.options.display.float_format = '${:,.2f}'.format\n",
    "\n",
    "# Display df\n",
    "purchase_sum"
   ]
  },
  {
   "cell_type": "markdown",
   "metadata": {},
   "source": [
    "## Gender Demographics"
   ]
  },
  {
   "cell_type": "markdown",
   "metadata": {},
   "source": [
    "* Percentage and Count of Male Players\n",
    "\n",
    "\n",
    "* Percentage and Count of Female Players\n",
    "\n",
    "\n",
    "* Percentage and Count of Other / Non-Disclosed\n",
    "\n",
    "\n"
   ]
  },
  {
   "cell_type": "code",
   "execution_count": 4,
   "metadata": {},
   "outputs": [
    {
     "data": {
      "text/html": [
       "<style type=\"text/css\">\n",
       "</style>\n",
       "<table id=\"T_be62f\">\n",
       "  <thead>\n",
       "    <tr>\n",
       "      <th class=\"blank level0\" >&nbsp;</th>\n",
       "      <th id=\"T_be62f_level0_col0\" class=\"col_heading level0 col0\" >Percentage of Players</th>\n",
       "      <th id=\"T_be62f_level0_col1\" class=\"col_heading level0 col1\" >Total Count</th>\n",
       "    </tr>\n",
       "  </thead>\n",
       "  <tbody>\n",
       "    <tr>\n",
       "      <th id=\"T_be62f_level0_row0\" class=\"row_heading level0 row0\" >Male</th>\n",
       "      <td id=\"T_be62f_row0_col0\" class=\"data row0 col0\" >83.6%</td>\n",
       "      <td id=\"T_be62f_row0_col1\" class=\"data row0 col1\" >652</td>\n",
       "    </tr>\n",
       "    <tr>\n",
       "      <th id=\"T_be62f_level0_row1\" class=\"row_heading level0 row1\" >Female</th>\n",
       "      <td id=\"T_be62f_row1_col0\" class=\"data row1 col0\" >14.5%</td>\n",
       "      <td id=\"T_be62f_row1_col1\" class=\"data row1 col1\" >113</td>\n",
       "    </tr>\n",
       "    <tr>\n",
       "      <th id=\"T_be62f_level0_row2\" class=\"row_heading level0 row2\" >Other / Non-Disclosed</th>\n",
       "      <td id=\"T_be62f_row2_col0\" class=\"data row2 col0\" >1.9%</td>\n",
       "      <td id=\"T_be62f_row2_col1\" class=\"data row2 col1\" >15</td>\n",
       "    </tr>\n",
       "  </tbody>\n",
       "</table>\n"
      ],
      "text/plain": [
       "<pandas.io.formats.style.Styler at 0x2176e916f70>"
      ]
     },
     "execution_count": 4,
     "metadata": {},
     "output_type": "execute_result"
    }
   ],
   "source": [
    "# create variables to hold percentages of the sex of players\n",
    "total_gender = df[\"Gender\"].value_counts()\n",
    "sum_total=df[\"Gender\"].count()\n",
    "\n",
    "pct_gender = total_gender / sum_total\n",
    "#put variables into dataframe\n",
    "gender= pd.DataFrame({\"Percentage of Players\": pct_gender, \"Total Count\": total_gender})\n",
    "\n",
    "#format pct--if left to it's own devices, \"percentage of players\" identifies as a currency data type- don't we all, though?\n",
    "gender.style.format({\n",
    "    \"Percentage of Players\":\"{:.1%}\"\n",
    "})\n"
   ]
  },
  {
   "cell_type": "markdown",
   "metadata": {},
   "source": [
    "\n",
    "## Purchasing Analysis (Gender)"
   ]
  },
  {
   "cell_type": "markdown",
   "metadata": {},
   "source": [
    "* Run basic calculations to obtain purchase count, avg. purchase price, avg. purchase total per person etc. by gender\n",
    "\n",
    "\n",
    "\n",
    "\n",
    "* Create a summary data frame to hold the results\n",
    "\n",
    "\n",
    "* Optional: give the displayed data cleaner formatting\n",
    "\n",
    "\n",
    "* Display the summary data frame"
   ]
  },
  {
   "cell_type": "code",
   "execution_count": 7,
   "metadata": {},
   "outputs": [
    {
     "data": {
      "text/html": [
       "<div>\n",
       "<style scoped>\n",
       "    .dataframe tbody tr th:only-of-type {\n",
       "        vertical-align: middle;\n",
       "    }\n",
       "\n",
       "    .dataframe tbody tr th {\n",
       "        vertical-align: top;\n",
       "    }\n",
       "\n",
       "    .dataframe thead th {\n",
       "        text-align: right;\n",
       "    }\n",
       "</style>\n",
       "<table border=\"1\" class=\"dataframe\">\n",
       "  <thead>\n",
       "    <tr style=\"text-align: right;\">\n",
       "      <th></th>\n",
       "      <th>Purchase Count</th>\n",
       "      <th>Average Purchase Price</th>\n",
       "      <th>Total Purchase Value</th>\n",
       "      <th>All Gender per Person Spent</th>\n",
       "    </tr>\n",
       "    <tr>\n",
       "      <th>Gender</th>\n",
       "      <th></th>\n",
       "      <th></th>\n",
       "      <th></th>\n",
       "      <th></th>\n",
       "    </tr>\n",
       "  </thead>\n",
       "  <tbody>\n",
       "    <tr>\n",
       "      <th>Female</th>\n",
       "      <td>113</td>\n",
       "      <td>$3.20</td>\n",
       "      <td>$361.94</td>\n",
       "      <td>$0.63</td>\n",
       "    </tr>\n",
       "    <tr>\n",
       "      <th>Male</th>\n",
       "      <td>652</td>\n",
       "      <td>$3.02</td>\n",
       "      <td>$1,967.64</td>\n",
       "      <td>$3.42</td>\n",
       "    </tr>\n",
       "    <tr>\n",
       "      <th>Other / Non-Disclosed</th>\n",
       "      <td>15</td>\n",
       "      <td>$3.35</td>\n",
       "      <td>$50.19</td>\n",
       "      <td>$0.09</td>\n",
       "    </tr>\n",
       "  </tbody>\n",
       "</table>\n",
       "</div>"
      ],
      "text/plain": [
       "                       Purchase Count  Average Purchase Price  \\\n",
       "Gender                                                          \n",
       "Female                            113                   $3.20   \n",
       "Male                              652                   $3.02   \n",
       "Other / Non-Disclosed              15                   $3.35   \n",
       "\n",
       "                       Total Purchase Value  All Gender per Person Spent  \n",
       "Gender                                                                    \n",
       "Female                              $361.94                        $0.63  \n",
       "Male                              $1,967.64                        $3.42  \n",
       "Other / Non-Disclosed                $50.19                        $0.09  "
      ]
     },
     "execution_count": 7,
     "metadata": {},
     "output_type": "execute_result"
    }
   ],
   "source": [
    "# Calculations\n",
    "gender_count = df.groupby([\"Gender\"]).count()[\"Price\"].rename(\"Purchase Count\")\n",
    "gender_avg = df.groupby([\"Gender\"]).mean()[\"Price\"].rename(\"Average Purchase Price\")\n",
    "gender_purchases = df.groupby([\"Gender\"]).sum()[\"Price\"].rename(\"Total Purchase Value\")\n",
    "overall_avg_spent = gender_purchases / player_count\n",
    "\n",
    "# Create df\n",
    "gender_summ = pd.DataFrame({\"Purchase Count\": gender_count, \"Average Purchase Price\": gender_avg, \"Total Purchase Value\": gender_purchase_total, \"All Gender per Person Spent\": overall_avg_spent})\n",
    "\n",
    "# Format\n",
    "#no formatting needs found\n",
    "\n",
    "\n",
    "# Display df\n",
    "gender_summ\n",
    "\n",
    "\n"
   ]
  },
  {
   "cell_type": "markdown",
   "metadata": {},
   "source": [
    "## Age Demographics"
   ]
  },
  {
   "cell_type": "markdown",
   "metadata": {},
   "source": [
    "* Establish bins for ages\n",
    "\n",
    "\n",
    "* Categorize the existing players using the age bins. Hint: use pd.cut()\n",
    "\n",
    "\n",
    "* Calculate the numbers and percentages by age group\n",
    "\n",
    "\n",
    "* Create a summary data frame to hold the results\n",
    "\n",
    "\n",
    "* Optional: round the percentage column to two decimal points\n",
    "\n",
    "\n",
    "* Display Age Demographics Table\n"
   ]
  },
  {
   "cell_type": "code",
   "execution_count": 8,
   "metadata": {},
   "outputs": [
    {
     "data": {
      "text/html": [
       "<style type=\"text/css\">\n",
       "</style>\n",
       "<table id=\"T_06446\">\n",
       "  <thead>\n",
       "    <tr>\n",
       "      <th class=\"blank level0\" >&nbsp;</th>\n",
       "      <th id=\"T_06446_level0_col0\" class=\"col_heading level0 col0\" >Total Purchase Count</th>\n",
       "      <th id=\"T_06446_level0_col1\" class=\"col_heading level0 col1\" >Percentage of Players</th>\n",
       "    </tr>\n",
       "  </thead>\n",
       "  <tbody>\n",
       "    <tr>\n",
       "      <th id=\"T_06446_level0_row0\" class=\"row_heading level0 row0\" >20-24</th>\n",
       "      <td id=\"T_06446_row0_col0\" class=\"data row0 col0\" >365</td>\n",
       "      <td id=\"T_06446_row0_col1\" class=\"data row0 col1\" >63.4%</td>\n",
       "    </tr>\n",
       "    <tr>\n",
       "      <th id=\"T_06446_level0_row1\" class=\"row_heading level0 row1\" >15-19</th>\n",
       "      <td id=\"T_06446_row1_col0\" class=\"data row1 col0\" >136</td>\n",
       "      <td id=\"T_06446_row1_col1\" class=\"data row1 col1\" >23.6%</td>\n",
       "    </tr>\n",
       "    <tr>\n",
       "      <th id=\"T_06446_level0_row2\" class=\"row_heading level0 row2\" >25-29</th>\n",
       "      <td id=\"T_06446_row2_col0\" class=\"data row2 col0\" >101</td>\n",
       "      <td id=\"T_06446_row2_col1\" class=\"data row2 col1\" >17.5%</td>\n",
       "    </tr>\n",
       "    <tr>\n",
       "      <th id=\"T_06446_level0_row3\" class=\"row_heading level0 row3\" >30-34</th>\n",
       "      <td id=\"T_06446_row3_col0\" class=\"data row3 col0\" >73</td>\n",
       "      <td id=\"T_06446_row3_col1\" class=\"data row3 col1\" >12.7%</td>\n",
       "    </tr>\n",
       "    <tr>\n",
       "      <th id=\"T_06446_level0_row4\" class=\"row_heading level0 row4\" >35-39</th>\n",
       "      <td id=\"T_06446_row4_col0\" class=\"data row4 col0\" >41</td>\n",
       "      <td id=\"T_06446_row4_col1\" class=\"data row4 col1\" >7.1%</td>\n",
       "    </tr>\n",
       "    <tr>\n",
       "      <th id=\"T_06446_level0_row5\" class=\"row_heading level0 row5\" >10-14</th>\n",
       "      <td id=\"T_06446_row5_col0\" class=\"data row5 col0\" >28</td>\n",
       "      <td id=\"T_06446_row5_col1\" class=\"data row5 col1\" >4.9%</td>\n",
       "    </tr>\n",
       "    <tr>\n",
       "      <th id=\"T_06446_level0_row6\" class=\"row_heading level0 row6\" ><10</th>\n",
       "      <td id=\"T_06446_row6_col0\" class=\"data row6 col0\" >23</td>\n",
       "      <td id=\"T_06446_row6_col1\" class=\"data row6 col1\" >4.0%</td>\n",
       "    </tr>\n",
       "    <tr>\n",
       "      <th id=\"T_06446_level0_row7\" class=\"row_heading level0 row7\" >40+</th>\n",
       "      <td id=\"T_06446_row7_col0\" class=\"data row7 col0\" >13</td>\n",
       "      <td id=\"T_06446_row7_col1\" class=\"data row7 col1\" >2.3%</td>\n",
       "    </tr>\n",
       "  </tbody>\n",
       "</table>\n"
      ],
      "text/plain": [
       "<pandas.io.formats.style.Styler at 0x217625ec160>"
      ]
     },
     "execution_count": 8,
     "metadata": {},
     "output_type": "execute_result"
    }
   ],
   "source": [
    "# Age bins\n",
    "bins = [0, 9.90, 14.90, 19.90, 24.90, 29.90, 34.90, 39.90, 99999]\n",
    "labels = [\"<10\", \"10-14\", \"15-19\", \"20-24\", \"25-29\", \"30-34\", \"35-39\", \"40+\"]\n",
    "\n",
    "# Categorize players using age bins\n",
    "df[\"Age Ranges\"] = pd.cut(df[\"Age\"], bins, labels = labels)\n",
    "\n",
    "# Calculations\n",
    "totals = df[\"Age Ranges\"].value_counts()\n",
    "pct = totals / player_count \n",
    "\n",
    "# Create df\n",
    "ages = pd.DataFrame({\"Total Purchase Count\": totals, \"Percentage of Players\": pct})\n",
    "\n",
    "#format \n",
    "ages.style.format({\n",
    "    \"Total Purchase Count\":'{:,}',\n",
    "    \"Percentage of Players\":'{:.1%}'\n",
    "                  })\n"
   ]
  },
  {
   "cell_type": "markdown",
   "metadata": {},
   "source": [
    "## Purchasing Analysis (Age)"
   ]
  },
  {
   "cell_type": "markdown",
   "metadata": {},
   "source": [
    "* Bin the purchase_data data frame by age\n",
    "\n",
    "\n",
    "* Run basic calculations to obtain purchase count, avg. purchase price, avg. purchase total per person etc. in the table below\n",
    "\n",
    "\n",
    "* Create a summary data frame to hold the results\n",
    "\n",
    "\n",
    "* Optional: give the displayed data cleaner formatting\n",
    "\n",
    "\n",
    "* Display the summary data frame"
   ]
  },
  {
   "cell_type": "code",
   "execution_count": 9,
   "metadata": {},
   "outputs": [
    {
     "data": {
      "text/html": [
       "<style type=\"text/css\">\n",
       "</style>\n",
       "<table id=\"T_edcd9\">\n",
       "  <thead>\n",
       "    <tr>\n",
       "      <th class=\"blank level0\" >&nbsp;</th>\n",
       "      <th id=\"T_edcd9_level0_col0\" class=\"col_heading level0 col0\" >Purchase Count</th>\n",
       "      <th id=\"T_edcd9_level0_col1\" class=\"col_heading level0 col1\" >Average Purchase Price</th>\n",
       "      <th id=\"T_edcd9_level0_col2\" class=\"col_heading level0 col2\" >Total Purchase Value</th>\n",
       "      <th id=\"T_edcd9_level0_col3\" class=\"col_heading level0 col3\" >Overall Percentage Purchase</th>\n",
       "    </tr>\n",
       "    <tr>\n",
       "      <th class=\"index_name level0\" >Age Ranges</th>\n",
       "      <th class=\"blank col0\" >&nbsp;</th>\n",
       "      <th class=\"blank col1\" >&nbsp;</th>\n",
       "      <th class=\"blank col2\" >&nbsp;</th>\n",
       "      <th class=\"blank col3\" >&nbsp;</th>\n",
       "    </tr>\n",
       "  </thead>\n",
       "  <tbody>\n",
       "    <tr>\n",
       "      <th id=\"T_edcd9_level0_row0\" class=\"row_heading level0 row0\" ><10</th>\n",
       "      <td id=\"T_edcd9_row0_col0\" class=\"data row0 col0\" >23</td>\n",
       "      <td id=\"T_edcd9_row0_col1\" class=\"data row0 col1\" >$3.35</td>\n",
       "      <td id=\"T_edcd9_row0_col2\" class=\"data row0 col2\" >$77.13</td>\n",
       "      <td id=\"T_edcd9_row0_col3\" class=\"data row0 col3\" >13.4%</td>\n",
       "    </tr>\n",
       "    <tr>\n",
       "      <th id=\"T_edcd9_level0_row1\" class=\"row_heading level0 row1\" >10-14</th>\n",
       "      <td id=\"T_edcd9_row1_col0\" class=\"data row1 col0\" >28</td>\n",
       "      <td id=\"T_edcd9_row1_col1\" class=\"data row1 col1\" >$2.96</td>\n",
       "      <td id=\"T_edcd9_row1_col2\" class=\"data row1 col2\" >$82.78</td>\n",
       "      <td id=\"T_edcd9_row1_col3\" class=\"data row1 col3\" >14.4%</td>\n",
       "    </tr>\n",
       "    <tr>\n",
       "      <th id=\"T_edcd9_level0_row2\" class=\"row_heading level0 row2\" >15-19</th>\n",
       "      <td id=\"T_edcd9_row2_col0\" class=\"data row2 col0\" >136</td>\n",
       "      <td id=\"T_edcd9_row2_col1\" class=\"data row2 col1\" >$3.04</td>\n",
       "      <td id=\"T_edcd9_row2_col2\" class=\"data row2 col2\" >$412.89</td>\n",
       "      <td id=\"T_edcd9_row2_col3\" class=\"data row2 col3\" >71.7%</td>\n",
       "    </tr>\n",
       "    <tr>\n",
       "      <th id=\"T_edcd9_level0_row3\" class=\"row_heading level0 row3\" >20-24</th>\n",
       "      <td id=\"T_edcd9_row3_col0\" class=\"data row3 col0\" >365</td>\n",
       "      <td id=\"T_edcd9_row3_col1\" class=\"data row3 col1\" >$3.05</td>\n",
       "      <td id=\"T_edcd9_row3_col2\" class=\"data row3 col2\" >$1,114.06</td>\n",
       "      <td id=\"T_edcd9_row3_col3\" class=\"data row3 col3\" >193.4%</td>\n",
       "    </tr>\n",
       "    <tr>\n",
       "      <th id=\"T_edcd9_level0_row4\" class=\"row_heading level0 row4\" >25-29</th>\n",
       "      <td id=\"T_edcd9_row4_col0\" class=\"data row4 col0\" >101</td>\n",
       "      <td id=\"T_edcd9_row4_col1\" class=\"data row4 col1\" >$2.90</td>\n",
       "      <td id=\"T_edcd9_row4_col2\" class=\"data row4 col2\" >$293.00</td>\n",
       "      <td id=\"T_edcd9_row4_col3\" class=\"data row4 col3\" >50.9%</td>\n",
       "    </tr>\n",
       "    <tr>\n",
       "      <th id=\"T_edcd9_level0_row5\" class=\"row_heading level0 row5\" >30-34</th>\n",
       "      <td id=\"T_edcd9_row5_col0\" class=\"data row5 col0\" >73</td>\n",
       "      <td id=\"T_edcd9_row5_col1\" class=\"data row5 col1\" >$2.93</td>\n",
       "      <td id=\"T_edcd9_row5_col2\" class=\"data row5 col2\" >$214.00</td>\n",
       "      <td id=\"T_edcd9_row5_col3\" class=\"data row5 col3\" >37.2%</td>\n",
       "    </tr>\n",
       "    <tr>\n",
       "      <th id=\"T_edcd9_level0_row6\" class=\"row_heading level0 row6\" >35-39</th>\n",
       "      <td id=\"T_edcd9_row6_col0\" class=\"data row6 col0\" >41</td>\n",
       "      <td id=\"T_edcd9_row6_col1\" class=\"data row6 col1\" >$3.60</td>\n",
       "      <td id=\"T_edcd9_row6_col2\" class=\"data row6 col2\" >$147.67</td>\n",
       "      <td id=\"T_edcd9_row6_col3\" class=\"data row6 col3\" >25.6%</td>\n",
       "    </tr>\n",
       "    <tr>\n",
       "      <th id=\"T_edcd9_level0_row7\" class=\"row_heading level0 row7\" >40+</th>\n",
       "      <td id=\"T_edcd9_row7_col0\" class=\"data row7 col0\" >13</td>\n",
       "      <td id=\"T_edcd9_row7_col1\" class=\"data row7 col1\" >$2.94</td>\n",
       "      <td id=\"T_edcd9_row7_col2\" class=\"data row7 col2\" >$38.24</td>\n",
       "      <td id=\"T_edcd9_row7_col3\" class=\"data row7 col3\" >6.6%</td>\n",
       "    </tr>\n",
       "  </tbody>\n",
       "</table>\n"
      ],
      "text/plain": [
       "<pandas.io.formats.style.Styler at 0x21762549f10>"
      ]
     },
     "execution_count": 9,
     "metadata": {},
     "output_type": "execute_result"
    }
   ],
   "source": [
    "# bins!\n",
    "df[\"Age Ranges\"] = pd.cut(df[\"Age\"], bins, labels = labels)\n",
    "\n",
    "# Calculations\n",
    "counts = df.groupby([\"Age Ranges\"]).count()[\"Price\"].rename(\"Purchase Count\")\n",
    "total_purch = df.groupby([\"Age Ranges\"]).sum()[\"Price\"].rename(\"Total Purchase Value\")\n",
    "age_avg = df.groupby([\"Age Ranges\"]).mean()[\"Price\"].rename(\"Average Purchase Price\")\n",
    "overall = total_purch / player_count\n",
    "\n",
    "\n",
    "# Create df\n",
    "age_sum = pd.DataFrame({\"Purchase Count\": counts, \"Average Purchase Price\": age_avg, \"Total Purchase Value\": total_purch, \"Overall Percentage Purchase\": overall})\n",
    "\n",
    "# Format\n",
    "age_sum.style.format({\n",
    "    \"Purchase Count\":'{:,}',\n",
    "    \"Average Purchase Price\":'${:,.2f}',\n",
    "    \"Total Purchase Value\":'${:,.2f}',\n",
    "    \"Overall Percentage Purchase\":'{:.1%}'\n",
    "                  })\n",
    "\n",
    "\n"
   ]
  },
  {
   "cell_type": "markdown",
   "metadata": {},
   "source": [
    "## Top Spenders"
   ]
  },
  {
   "cell_type": "markdown",
   "metadata": {},
   "source": [
    "* Run basic calculations to obtain the results in the table below\n",
    "\n",
    "\n",
    "* Create a summary data frame to hold the results\n",
    "\n",
    "\n",
    "* Sort the total purchase value column in descending order\n",
    "\n",
    "\n",
    "* Optional: give the displayed data cleaner formatting\n",
    "\n",
    "\n",
    "* Display a preview of the summary data frame\n",
    "\n"
   ]
  },
  {
   "cell_type": "code",
   "execution_count": 10,
   "metadata": {},
   "outputs": [
    {
     "data": {
      "text/html": [
       "<div>\n",
       "<style scoped>\n",
       "    .dataframe tbody tr th:only-of-type {\n",
       "        vertical-align: middle;\n",
       "    }\n",
       "\n",
       "    .dataframe tbody tr th {\n",
       "        vertical-align: top;\n",
       "    }\n",
       "\n",
       "    .dataframe thead th {\n",
       "        text-align: right;\n",
       "    }\n",
       "</style>\n",
       "<table border=\"1\" class=\"dataframe\">\n",
       "  <thead>\n",
       "    <tr style=\"text-align: right;\">\n",
       "      <th></th>\n",
       "      <th>Purchase Count</th>\n",
       "      <th>Average Purchase Price</th>\n",
       "      <th>Total Purchase Value</th>\n",
       "    </tr>\n",
       "    <tr>\n",
       "      <th>SN</th>\n",
       "      <th></th>\n",
       "      <th></th>\n",
       "      <th></th>\n",
       "    </tr>\n",
       "  </thead>\n",
       "  <tbody>\n",
       "    <tr>\n",
       "      <th>Lisosia93</th>\n",
       "      <td>5</td>\n",
       "      <td>$3.79</td>\n",
       "      <td>$18.96</td>\n",
       "    </tr>\n",
       "    <tr>\n",
       "      <th>Idastidru52</th>\n",
       "      <td>4</td>\n",
       "      <td>$3.86</td>\n",
       "      <td>$15.45</td>\n",
       "    </tr>\n",
       "    <tr>\n",
       "      <th>Chamjask73</th>\n",
       "      <td>3</td>\n",
       "      <td>$4.61</td>\n",
       "      <td>$13.83</td>\n",
       "    </tr>\n",
       "    <tr>\n",
       "      <th>Iral74</th>\n",
       "      <td>4</td>\n",
       "      <td>$3.41</td>\n",
       "      <td>$13.62</td>\n",
       "    </tr>\n",
       "    <tr>\n",
       "      <th>Iskadarya95</th>\n",
       "      <td>3</td>\n",
       "      <td>$4.37</td>\n",
       "      <td>$13.10</td>\n",
       "    </tr>\n",
       "  </tbody>\n",
       "</table>\n",
       "</div>"
      ],
      "text/plain": [
       "             Purchase Count  Average Purchase Price  Total Purchase Value\n",
       "SN                                                                       \n",
       "Lisosia93                 5                   $3.79                $18.96\n",
       "Idastidru52               4                   $3.86                $15.45\n",
       "Chamjask73                3                   $4.61                $13.83\n",
       "Iral74                    4                   $3.41                $13.62\n",
       "Iskadarya95               3                   $4.37                $13.10"
      ]
     },
     "execution_count": 10,
     "metadata": {},
     "output_type": "execute_result"
    }
   ],
   "source": [
    "# it puts the calculations in the variables, or else it gets an Err Message again!\n",
    "users = df.groupby([\"SN\"]).count()[\"Price\"].rename(\"Purchase Count\")\n",
    "avg = df.groupby([\"SN\"]).mean()[\"Price\"].rename(\"Average Purchase Price\")\n",
    "total = df.groupby([\"SN\"]).sum()[\"Price\"].rename(\"Total Purchase Value\")\n",
    "\n",
    "# Create df\n",
    "user_summ = pd.DataFrame({\"Purchase Count\": users, \"Average Purchase Price\": avg, \"Total Purchase Value\": total})\n",
    "\n",
    "# Sort total purchase value (descending order)\n",
    "user_sort = user_summ.sort_values(\"Total Purchase Value\", ascending = False)\n",
    "\n",
    "# Format--went wonky giving me 10 decimals, prints out fine without the format\n",
    "user_sort.head(5)\n"
   ]
  },
  {
   "cell_type": "markdown",
   "metadata": {},
   "source": [
    "## Most Popular Items"
   ]
  },
  {
   "cell_type": "markdown",
   "metadata": {},
   "source": [
    "* Retrieve the Item ID, Item Name, and Item Price columns\n",
    "\n",
    "\n",
    "* Group by Item ID and Item Name. Perform calculations to obtain purchase count, average item price, and total purchase value\n",
    "\n",
    "\n",
    "* Create a summary data frame to hold the results\n",
    "\n",
    "\n",
    "* Sort the purchase count column in descending order\n",
    "\n",
    "\n",
    "* Optional: give the displayed data cleaner formatting\n",
    "\n",
    "\n",
    "* Display a preview of the summary data frame\n",
    "\n"
   ]
  },
  {
   "cell_type": "code",
   "execution_count": 14,
   "metadata": {},
   "outputs": [
    {
     "data": {
      "text/html": [
       "<div>\n",
       "<style scoped>\n",
       "    .dataframe tbody tr th:only-of-type {\n",
       "        vertical-align: middle;\n",
       "    }\n",
       "\n",
       "    .dataframe tbody tr th {\n",
       "        vertical-align: top;\n",
       "    }\n",
       "\n",
       "    .dataframe thead th {\n",
       "        text-align: right;\n",
       "    }\n",
       "</style>\n",
       "<table border=\"1\" class=\"dataframe\">\n",
       "  <thead>\n",
       "    <tr style=\"text-align: right;\">\n",
       "      <th></th>\n",
       "      <th></th>\n",
       "      <th>Purchase Count</th>\n",
       "      <th>Item Price</th>\n",
       "      <th>Total</th>\n",
       "    </tr>\n",
       "    <tr>\n",
       "      <th>Item ID</th>\n",
       "      <th>Item Name</th>\n",
       "      <th></th>\n",
       "      <th></th>\n",
       "      <th></th>\n",
       "    </tr>\n",
       "  </thead>\n",
       "  <tbody>\n",
       "    <tr>\n",
       "      <th>92</th>\n",
       "      <th>Final Critic</th>\n",
       "      <td>13</td>\n",
       "      <td>$4.61</td>\n",
       "      <td>$59.99</td>\n",
       "    </tr>\n",
       "    <tr>\n",
       "      <th>178</th>\n",
       "      <th>Oathbreaker, Last Hope of the Breaking Storm</th>\n",
       "      <td>12</td>\n",
       "      <td>$4.23</td>\n",
       "      <td>$50.76</td>\n",
       "    </tr>\n",
       "    <tr>\n",
       "      <th>145</th>\n",
       "      <th>Fiery Glass Crusader</th>\n",
       "      <td>9</td>\n",
       "      <td>$4.58</td>\n",
       "      <td>$41.22</td>\n",
       "    </tr>\n",
       "    <tr>\n",
       "      <th>132</th>\n",
       "      <th>Persuasion</th>\n",
       "      <td>9</td>\n",
       "      <td>$3.22</td>\n",
       "      <td>$28.99</td>\n",
       "    </tr>\n",
       "    <tr>\n",
       "      <th>108</th>\n",
       "      <th>Extraction, Quickblade Of Trembling Hands</th>\n",
       "      <td>9</td>\n",
       "      <td>$3.53</td>\n",
       "      <td>$31.77</td>\n",
       "    </tr>\n",
       "  </tbody>\n",
       "</table>\n",
       "</div>"
      ],
      "text/plain": [
       "                                                      Purchase Count  \\\n",
       "Item ID Item Name                                                      \n",
       "92      Final Critic                                              13   \n",
       "178     Oathbreaker, Last Hope of the Breaking Storm              12   \n",
       "145     Fiery Glass Crusader                                       9   \n",
       "132     Persuasion                                                 9   \n",
       "108     Extraction, Quickblade Of Trembling Hands                  9   \n",
       "\n",
       "                                                      Item Price  Total  \n",
       "Item ID Item Name                                                        \n",
       "92      Final Critic                                       $4.61 $59.99  \n",
       "178     Oathbreaker, Last Hope of the Breaking Storm       $4.23 $50.76  \n",
       "145     Fiery Glass Crusader                               $4.58 $41.22  \n",
       "132     Persuasion                                         $3.22 $28.99  \n",
       "108     Extraction, Quickblade Of Trembling Hands          $3.53 $31.77  "
      ]
     },
     "execution_count": 14,
     "metadata": {},
     "output_type": "execute_result"
    }
   ],
   "source": [
    "# Retrieve the Item ID, Item Name, and Item Price columns\n",
    "pop_item = df.loc[:,[\"Item ID\", \"Item Name\", \"Price\"]]\n",
    "\n",
    "# Calculations and groupby\n",
    "count_purch = pop_item.groupby([\"Item ID\", \"Item Name\"]).count()[\"Price\"].rename(\"Purchase Count\")\n",
    "item_price = pop_item.groupby([\"Item ID\", \"Item Name\"]).mean()[\"Price\"]\n",
    "purch_total = pop_item.groupby([\"Item ID\", \"Item Name\"]).sum()[\"Price\"].rename(\"Total Purchase Value\")\n",
    "\n",
    "# Create df\n",
    "item_data_pd = pd.DataFrame({\"Purchase Count\": count_purch, \"Item Price\": item_price, \"Total\": purch_total})\n",
    "\n",
    "# Sort purchase count (descending order)\n",
    "item_sort = item_data_pd.sort_values(\"Purchase Count\", ascending = False)\n",
    "\n",
    "\n",
    "# Format\n",
    "item_sort.style.format({\n",
    "    \"Purchase Count\":'{:,}',\n",
    "    \"Item Price\":'${:,.2f}',\n",
    "    \"Total\":'${:,.2f}'\n",
    "                  })\n",
    "\n",
    "# Display df\n",
    "item_sort.head(5)"
   ]
  },
  {
   "cell_type": "markdown",
   "metadata": {},
   "source": [
    "## Most Profitable Items"
   ]
  },
  {
   "cell_type": "markdown",
   "metadata": {},
   "source": [
    "* Sort the above table by total purchase value in descending order\n",
    "\n",
    "\n",
    "* Optional: give the displayed data cleaner formatting\n",
    "\n",
    "\n",
    "* Display a preview of the data frame\n",
    "\n"
   ]
  },
  {
   "cell_type": "code",
   "execution_count": 16,
   "metadata": {
    "scrolled": true
   },
   "outputs": [
    {
     "data": {
      "text/html": [
       "<div>\n",
       "<style scoped>\n",
       "    .dataframe tbody tr th:only-of-type {\n",
       "        vertical-align: middle;\n",
       "    }\n",
       "\n",
       "    .dataframe tbody tr th {\n",
       "        vertical-align: top;\n",
       "    }\n",
       "\n",
       "    .dataframe thead th {\n",
       "        text-align: right;\n",
       "    }\n",
       "</style>\n",
       "<table border=\"1\" class=\"dataframe\">\n",
       "  <thead>\n",
       "    <tr style=\"text-align: right;\">\n",
       "      <th></th>\n",
       "      <th></th>\n",
       "      <th>Purchase Count</th>\n",
       "      <th>Item Price</th>\n",
       "      <th>Total</th>\n",
       "    </tr>\n",
       "    <tr>\n",
       "      <th>Item ID</th>\n",
       "      <th>Item Name</th>\n",
       "      <th></th>\n",
       "      <th></th>\n",
       "      <th></th>\n",
       "    </tr>\n",
       "  </thead>\n",
       "  <tbody>\n",
       "    <tr>\n",
       "      <th>92</th>\n",
       "      <th>Final Critic</th>\n",
       "      <td>13</td>\n",
       "      <td>$4.61</td>\n",
       "      <td>$59.99</td>\n",
       "    </tr>\n",
       "    <tr>\n",
       "      <th>178</th>\n",
       "      <th>Oathbreaker, Last Hope of the Breaking Storm</th>\n",
       "      <td>12</td>\n",
       "      <td>$4.23</td>\n",
       "      <td>$50.76</td>\n",
       "    </tr>\n",
       "    <tr>\n",
       "      <th>82</th>\n",
       "      <th>Nirvana</th>\n",
       "      <td>9</td>\n",
       "      <td>$4.90</td>\n",
       "      <td>$44.10</td>\n",
       "    </tr>\n",
       "    <tr>\n",
       "      <th>145</th>\n",
       "      <th>Fiery Glass Crusader</th>\n",
       "      <td>9</td>\n",
       "      <td>$4.58</td>\n",
       "      <td>$41.22</td>\n",
       "    </tr>\n",
       "    <tr>\n",
       "      <th>103</th>\n",
       "      <th>Singed Scalpel</th>\n",
       "      <td>8</td>\n",
       "      <td>$4.35</td>\n",
       "      <td>$34.80</td>\n",
       "    </tr>\n",
       "  </tbody>\n",
       "</table>\n",
       "</div>"
      ],
      "text/plain": [
       "                                                      Purchase Count  \\\n",
       "Item ID Item Name                                                      \n",
       "92      Final Critic                                              13   \n",
       "178     Oathbreaker, Last Hope of the Breaking Storm              12   \n",
       "82      Nirvana                                                    9   \n",
       "145     Fiery Glass Crusader                                       9   \n",
       "103     Singed Scalpel                                             8   \n",
       "\n",
       "                                                      Item Price  Total  \n",
       "Item ID Item Name                                                        \n",
       "92      Final Critic                                       $4.61 $59.99  \n",
       "178     Oathbreaker, Last Hope of the Breaking Storm       $4.23 $50.76  \n",
       "82      Nirvana                                            $4.90 $44.10  \n",
       "145     Fiery Glass Crusader                               $4.58 $41.22  \n",
       "103     Singed Scalpel                                     $4.35 $34.80  "
      ]
     },
     "execution_count": 16,
     "metadata": {},
     "output_type": "execute_result"
    }
   ],
   "source": [
    "# Sort above df by total purchase value (descending order)\n",
    "item_val = item_sort.sort_values(\"Total\", ascending = False)\n",
    "\n",
    "# Format\n",
    "item_val.style.format({\n",
    "    \"Purchase Count\":'{:,}',\n",
    "    \"Item Price\":'${:,.2f}',\n",
    "    \"Total\":'${:,.2f}'\n",
    "                  })\n",
    "# Display df\n",
    "item_val.head(5)"
   ]
  }
 ],
 "metadata": {
  "anaconda-cloud": {},
  "kernel_info": {
   "name": "python3"
  },
  "kernelspec": {
   "display_name": "Python 3 (ipykernel)",
   "language": "python",
   "name": "python3"
  },
  "language_info": {
   "codemirror_mode": {
    "name": "ipython",
    "version": 3
   },
   "file_extension": ".py",
   "mimetype": "text/x-python",
   "name": "python",
   "nbconvert_exporter": "python",
   "pygments_lexer": "ipython3",
   "version": "3.8.2"
  },
  "latex_envs": {
   "LaTeX_envs_menu_present": true,
   "autoclose": false,
   "autocomplete": true,
   "bibliofile": "biblio.bib",
   "cite_by": "apalike",
   "current_citInitial": 1,
   "eqLabelWithNumbers": true,
   "eqNumInitial": 1,
   "hotkeys": {
    "equation": "Ctrl-E",
    "itemize": "Ctrl-I"
   },
   "labels_anchors": false,
   "latex_user_defs": false,
   "report_style_numbering": false,
   "user_envs_cfg": false
  },
  "nteract": {
   "version": "0.2.0"
  }
 },
 "nbformat": 4,
 "nbformat_minor": 2
}
